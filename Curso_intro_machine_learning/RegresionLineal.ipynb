{
 "cells": [
  {
   "cell_type": "code",
   "execution_count": 2,
   "metadata": {},
   "outputs": [],
   "source": [
    "import torch\n",
    "import numpy as np\n",
    "import torch.nn as nn\n",
    "import torch.optim as optim\n",
    "import matplotlib.pyplot as plt"
   ]
  },
  {
   "cell_type": "markdown",
   "metadata": {},
   "source": [
    "<h1>Regresion Lineal</h1>"
   ]
  },
  {
   "cell_type": "code",
   "execution_count": 3,
   "metadata": {},
   "outputs": [
    {
     "data": {
      "text/plain": [
       "<matplotlib.collections.PathCollection at 0x7f370c0f1490>"
      ]
     },
     "execution_count": 3,
     "metadata": {},
     "output_type": "execute_result"
    },
    {
     "data": {
      "image/png": "[encoded data removed]",
      "text/plain": [
       "<Figure size 432x288 with 1 Axes>"
      ]
     },
     "metadata": {
      "needs_background": "light"
     },
     "output_type": "display_data"
    }
   ],
   "source": [
    "car_prices = [5,6,7,8,9,10]\n",
    "units_sold = [8.5,8,7.5,7.0,6.5,6.0]\n",
    "\n",
    "plt.scatter(car_prices, units_sold)"
   ]
  },
  {
   "cell_type": "code",
   "execution_count": 5,
   "metadata": {},
   "outputs": [
    {
     "data": {
      "text/plain": [
       "array([[ 5],\n",
       "       [ 6],\n",
       "       [ 7],\n",
       "       [ 8],\n",
       "       [ 9],\n",
       "       [10]])"
      ]
     },
     "execution_count": 5,
     "metadata": {},
     "output_type": "execute_result"
    }
   ],
   "source": [
    "prices_array = np.array(car_prices).reshape(-1 , 1)\n",
    "units_array = np.array(units_sold).reshape(-1 , 1)\n",
    "prices_array"
   ]
  },
  {
   "cell_type": "code",
   "execution_count": 6,
   "metadata": {},
   "outputs": [
    {
     "data": {
      "text/plain": [
       "(tensor([[ 5.],\n",
       "         [ 6.],\n",
       "         [ 7.],\n",
       "         [ 8.],\n",
       "         [ 9.],\n",
       "         [10.]], requires_grad=True), torch.Size([6, 1]))"
      ]
     },
     "execution_count": 6,
     "metadata": {},
     "output_type": "execute_result"
    }
   ],
   "source": [
    "prices = torch.from_numpy(prices_array).float().requires_grad_(True)\n",
    "units = torch.from_numpy(units_array).float().requires_grad_(True)\n",
    "\n",
    "prices, prices.shape"
   ]
  },
  {
   "cell_type": "code",
   "execution_count": 8,
   "metadata": {},
   "outputs": [
    {
     "name": "stdout",
     "output_type": "stream",
     "text": [
      "0.0181565023958683\n"
     ]
    },
    {
     "data": {
      "text/plain": [
       "[<matplotlib.lines.Line2D at 0x7f370b8b5150>]"
      ]
     },
     "execution_count": 8,
     "metadata": {},
     "output_type": "execute_result"
    },
    {
     "data": {
      "image/png": "[encoded data removed]",
      "text/plain": [
       "<Figure size 432x288 with 1 Axes>"
      ]
     },
     "metadata": {
      "needs_background": "light"
     },
     "output_type": "display_data"
    }
   ],
   "source": [
    "model = nn.Linear(1, 1)\n",
    "loss_function = nn.MSELoss()\n",
    "\n",
    "optimizer = optim.SGD(model.parameters(), lr=0.015)\n",
    "\n",
    "losses = []\n",
    "iterations = 2000\n",
    "\n",
    "for i in range(iterations):\n",
    "    pred = model(prices)\n",
    "    loss = loss_function(pred, units)\n",
    "    losses.append(loss.data)\n",
    "    optimizer.zero_grad()\n",
    "    loss.backward()\n",
    "    optimizer.step()\n",
    "    \n",
    "print(float(loss))\n",
    "plt.plot(range(iterations), losses)"
   ]
  },
  {
   "cell_type": "code",
   "execution_count": 9,
   "metadata": {},
   "outputs": [
    {
     "data": {
      "text/plain": [
       "tensor([8.7015], grad_fn=<AddBackward0>)"
      ]
     },
     "execution_count": 9,
     "metadata": {},
     "output_type": "execute_result"
    }
   ],
   "source": [
    "x = torch.Tensor([4.0])\n",
    "p = model(x)\n",
    "p"
   ]
  },
  {
   "cell_type": "markdown",
   "metadata": {},
   "source": [
    "<h1>Regresion Logistica</h1>\n"
   ]
  },
  {
   "cell_type": "code",
   "execution_count": 25,
   "metadata": {},
   "outputs": [
    {
     "data": {
      "text/plain": [
       "array([[-2.70080433, -1.79750794],\n",
       "       [ 3.48305113, -3.82429968],\n",
       "       [-0.67313328,  2.21399523],\n",
       "       [-0.40034275, -2.57596542],\n",
       "       [ 3.56690718, -2.7821685 ],\n",
       "       [-0.174521  , -0.93542784],\n",
       "       [ 0.87768132,  0.7155704 ],\n",
       "       [ 1.90376833,  0.53603926],\n",
       "       [-1.82542209,  0.05299729],\n",
       "       [ 0.31926749,  2.26559702],\n",
       "       [-3.6891927 , -0.3280147 ],\n",
       "       [-4.88356043,  1.18106698],\n",
       "       [ 1.64267977,  3.54583074],\n",
       "       [-1.16156997,  0.67801214],\n",
       "       [ 0.680115  , -2.5955009 ],\n",
       "       [ 1.80374903,  4.29573541],\n",
       "       [ 1.18663623, -5.87394017],\n",
       "       [-0.63689701, -2.37307542],\n",
       "       [-0.0187825 ,  3.54546956],\n",
       "       [ 0.75906037,  4.01391199],\n",
       "       [-1.70139336, -0.32522691],\n",
       "       [ 0.3401854 ,  1.63290679],\n",
       "       [ 2.24258481,  0.69580684],\n",
       "       [ 3.22738568, -0.05505408],\n",
       "       [ 8.54239051,  3.56952069],\n",
       "       [-3.12643066, -0.73770585],\n",
       "       [-1.32471452,  4.32833484],\n",
       "       [ 2.58323694, -0.61963646],\n",
       "       [-3.27731953, -2.60570252],\n",
       "       [ 7.11753197, -4.96728324],\n",
       "       [ 2.95469552,  1.5351317 ],\n",
       "       [ 2.86267201,  2.21297657],\n",
       "       [-0.315513  , -0.94026587],\n",
       "       [-1.60964981,  4.83453356],\n",
       "       [ 1.24630999, -5.08381233],\n",
       "       [ 3.04133119, -2.31087521],\n",
       "       [ 4.23104324, -1.61723619],\n",
       "       [-1.32673647,  2.8419513 ],\n",
       "       [-0.13244557,  1.0408656 ],\n",
       "       [ 5.34808685, -2.76680322],\n",
       "       [ 3.48588523, -3.22451014],\n",
       "       [ 2.18917453, -3.47009947],\n",
       "       [ 1.16559077, -6.39049719],\n",
       "       [ 0.07050862, -3.32712189],\n",
       "       [-1.14202904, -2.57929297],\n",
       "       [ 1.11080634,  6.39894811],\n",
       "       [ 1.96585198, -0.05903634],\n",
       "       [ 4.90251876, -1.96814947],\n",
       "       [-4.73224312, -1.92624401],\n",
       "       [-2.63622865, -2.07330442],\n",
       "       [ 1.36076586, -1.13716454],\n",
       "       [-3.30714319,  2.33925422],\n",
       "       [-0.57850309, -2.01177997],\n",
       "       [ 4.03713446,  3.54907049],\n",
       "       [ 0.44391676, -2.25388984],\n",
       "       [ 8.90081153, -2.19235981],\n",
       "       [-3.28235371, -2.66503242],\n",
       "       [-5.26010042, -2.27814701],\n",
       "       [ 2.54630943,  1.11884875],\n",
       "       [-4.68909845,  0.85705091],\n",
       "       [ 0.68703074, -1.90029728],\n",
       "       [ 3.76455358, -1.44293022],\n",
       "       [-0.61690093, -2.96401371],\n",
       "       [-1.89852566, -5.75600195],\n",
       "       [-0.57962277,  1.49840229],\n",
       "       [-0.5199944 , -1.47991337],\n",
       "       [ 2.28358649,  4.30571412],\n",
       "       [-1.35356204, -4.22409392],\n",
       "       [-2.59893355,  3.80133046],\n",
       "       [ 0.13046963,  3.2457362 ],\n",
       "       [ 0.7533549 ,  0.82941344],\n",
       "       [-2.34714673, -2.19279743],\n",
       "       [-2.27600793,  6.36307332],\n",
       "       [ 0.42168137,  1.52249569],\n",
       "       [ 1.21567509, -2.88198337],\n",
       "       [ 0.6199881 ,  1.76243311],\n",
       "       [ 3.05428921, -5.67871557],\n",
       "       [ 4.08492294,  0.73013899],\n",
       "       [ 2.40200881, -2.9576761 ],\n",
       "       [-4.86062601, -1.49541507],\n",
       "       [-1.2403232 ,  1.5429668 ],\n",
       "       [-1.45489062, -4.39777907],\n",
       "       [-3.13029659,  0.20445135],\n",
       "       [ 2.40537962,  0.18372265],\n",
       "       [-1.71580073,  1.5333983 ],\n",
       "       [-0.17464971,  0.22485181],\n",
       "       [-0.90724095,  0.72953611],\n",
       "       [ 2.41489419, -2.83253376],\n",
       "       [-2.29329459, -3.2461972 ],\n",
       "       [ 3.15618109, -6.25056155],\n",
       "       [-3.66262812,  6.31621669],\n",
       "       [ 2.57610275, -1.69772937],\n",
       "       [-5.89730958, -0.45934557],\n",
       "       [-1.5629973 , -1.76904764],\n",
       "       [-0.23599893, -3.16015174],\n",
       "       [ 2.6677195 , -3.62592878],\n",
       "       [-2.4768003 ,  5.3952066 ],\n",
       "       [-1.36164148,  2.03317638],\n",
       "       [ 3.9587242 , -2.68194369],\n",
       "       [ 0.99437339,  2.0020386 ]])"
      ]
     },
     "execution_count": 25,
     "metadata": {},
     "output_type": "execute_result"
    }
   ],
   "source": [
    "n = 100\n",
    "h = int(n/2)\n",
    "\n",
    "dimen= 2\n",
    "\n",
    "data = np.random.randn(n, dimen)*3\n",
    "data"
   ]
  },
  {
   "cell_type": "code",
   "execution_count": 26,
   "metadata": {},
   "outputs": [
    {
     "data": {
      "text/plain": [
       "<matplotlib.collections.PathCollection at 0x7f3709114e10>"
      ]
     },
     "execution_count": 26,
     "metadata": {},
     "output_type": "execute_result"
    },
    {
     "data": {
      "image/png": "[encoded data removed]",
      "text/plain": [
       "<Figure size 432x288 with 1 Axes>"
      ]
     },
     "metadata": {
      "needs_background": "light"
     },
     "output_type": "display_data"
    }
   ],
   "source": [
    "plt.scatter(data[:,0], data[:,1])"
   ]
  },
  {
   "cell_type": "code",
   "execution_count": 27,
   "metadata": {},
   "outputs": [],
   "source": [
    "data[:h, :]= data[:h, :] - 3*np.ones((h, dimen))"
   ]
  },
  {
   "cell_type": "code",
   "execution_count": 28,
   "metadata": {},
   "outputs": [],
   "source": [
    "data[h:, :]= data[h:, :] + 3*np.ones((h, dimen))"
   ]
  },
  {
   "cell_type": "code",
   "execution_count": 33,
   "metadata": {},
   "outputs": [
    {
     "data": {
      "text/plain": [
       "<matplotlib.collections.PathCollection at 0x7f3703f3ba90>"
      ]
     },
     "execution_count": 33,
     "metadata": {},
     "output_type": "execute_result"
    },
    {
     "data": {
      "image/png": "[encoded data removed]",
      "text/plain": [
       "<Figure size 432x288 with 1 Axes>"
      ]
     },
     "metadata": {
      "needs_background": "light"
     },
     "output_type": "display_data"
    }
   ],
   "source": [
    "colors = ['blue', 'red']\n",
    "color = np.array([colors[0]]*h + [colors[1]]*h).reshape(n)\n",
    "plt.scatter(data[:,0], data[:,1], c=color , s=75, alpha=0.6)"
   ]
  },
  {
   "cell_type": "code",
   "execution_count": 36,
   "metadata": {},
   "outputs": [
    {
     "data": {
      "text/plain": [
       "(torch.Size([100, 2]), torch.Size([100, 1]))"
      ]
     },
     "execution_count": 36,
     "metadata": {},
     "output_type": "execute_result"
    }
   ],
   "source": [
    "\n",
    "target = np.array([0]*h + [1]*h).reshape(n, 1)\n",
    "\n",
    "x = torch.from_numpy(data).float().requires_grad_(True)\n",
    "\n",
    "y = torch.from_numpy(target).float()\n",
    "\n",
    "x.shape, y.shape"
   ]
  },
  {
   "cell_type": "code",
   "execution_count": 41,
   "metadata": {},
   "outputs": [
    {
     "data": {
      "text/plain": [
       "tensor(0.1809, grad_fn=<BinaryCrossEntropyBackward>)"
      ]
     },
     "execution_count": 41,
     "metadata": {},
     "output_type": "execute_result"
    },
    {
     "data": {
      "image/png": "[encoded data removed]",
      "text/plain": [
       "<Figure size 432x288 with 1 Axes>"
      ]
     },
     "metadata": {
      "needs_background": "light"
     },
     "output_type": "display_data"
    }
   ],
   "source": [
    "model = nn.Sequential(\n",
    "            nn.Linear(2, 1),\n",
    "            nn.Sigmoid()\n",
    "        )\n",
    "\n",
    "loss_function = nn.BCELoss()\n",
    "optimizer = optim.SGD(model.parameters(), lr=0.01)\n",
    "losses = []\n",
    "iterations = 2000\n",
    "\n",
    "for i in range(iterations):\n",
    "    result = model(x)\n",
    "    loss = loss_function(result, y)\n",
    "    losses.append(loss.data)\n",
    "    optimizer.zero_grad()\n",
    "    loss.backward()\n",
    "    optimizer.step()\n",
    "    \n",
    "plt.plot(range(iterations), losses)\n",
    "loss"
   ]
  },
  {
   "cell_type": "code",
   "execution_count": 51,
   "metadata": {},
   "outputs": [
    {
     "name": "stdout",
     "output_type": "stream",
     "text": [
      "blue\n",
      "red\n"
     ]
    }
   ],
   "source": [
    "blue = torch.Tensor([[-5, -6]])\n",
    "prediction = model(blue).data[0][0] > 0.5\n",
    "print(colors[prediction])\n",
    "\n",
    "red = torch.Tensor([[8, 6]])\n",
    "prediction = model(red).data[0][0] > 0.5\n",
    "print(colors[prediction])"
   ]
  },
  {
   "cell_type": "code",
   "execution_count": 52,
   "metadata": {},
   "outputs": [
    {
     "data": {
      "text/plain": [
       "[<matplotlib.lines.Line2D at 0x7f3703d25910>]"
      ]
     },
     "execution_count": 52,
     "metadata": {},
     "output_type": "execute_result"
    },
    {
     "data": {
      "image/png": "[encoded data removed]",
      "text/plain": [
       "<Figure size 432x288 with 1 Axes>"
      ]
     },
     "metadata": {
      "needs_background": "light"
     },
     "output_type": "display_data"
    }
   ],
   "source": [
    "w = list(model.parameters())\n",
    "w0 = w[0].data.numpy()\n",
    "w1 = w[1].data.numpy()\n",
    "\n",
    "\n",
    "plt.scatter(data[:, 0], data[:, 1] , c=color, s=75, alpha=0.6)\n",
    "\n",
    "x_axis= np.linspace(-10, 10, n)\n",
    "y_axis = -(w1[0] + x_axis*w0[0][0]) / w0[0][1]\n",
    "plt.plot(x_axis, y_axis, 'g--')"
   ]
  }
 ],
 "metadata": {
  "kernelspec": {
   "display_name": "Python 3",
   "language": "python",
   "name": "python3"
  },
  "language_info": {
   "codemirror_mode": {
    "name": "ipython",
    "version": 3
   },
   "file_extension": ".py",
   "mimetype": "text/x-python",
   "name": "python",
   "nbconvert_exporter": "python",
   "pygments_lexer": "ipython3",
   "version": "3.7.5"
  }
 },
 "nbformat": 4,
 "nbformat_minor": 2
}
