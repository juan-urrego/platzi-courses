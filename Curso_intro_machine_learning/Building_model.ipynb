{
 "cells": [
  {
   "cell_type": "code",
   "execution_count": 1,
   "metadata": {},
   "outputs": [],
   "source": [
    "import torch\n",
    "import torch.nn as nn\n",
    "import torch.optim as optim\n",
    "from torchvision import utils\n",
    "from torchvision import models\n",
    "from torchvision import datasets\n",
    "from torchvision import transforms\n",
    "from PIL import Image\n",
    "import urllib.request as request\n",
    "from matplotlib import pyplot as plt\n"
   ]
  },
  {
   "cell_type": "markdown",
   "metadata": {},
   "source": [
    "# Construyendo un modelo"
   ]
  },
  {
   "cell_type": "code",
   "execution_count": 2,
   "metadata": {},
   "outputs": [
    {
     "name": "stdout",
     "output_type": "stream",
     "text": [
      "Files already downloaded and verified\n",
      "Files already downloaded and verified\n"
     ]
    }
   ],
   "source": [
    "data_path = 'data/'\n",
    "full_data_set = datasets.CIFAR10(data_path, train=True, download=True,\n",
    "                          transform=transforms.Compose([\n",
    "                              transforms.ToTensor(),\n",
    "                              transforms.Normalize((0.4915, 0.4823, 0.4468),\n",
    "                                                   (0.2470, 0.2435, 0.2616))\n",
    "                          ]))\n",
    "\n",
    "full_validation_set = datasets.CIFAR10(data_path, train=False, download=True,\n",
    "                          transform=transforms.Compose([\n",
    "                              transforms.ToTensor(),\n",
    "                              transforms.Normalize((0.4915, 0.4823, 0.4468),\n",
    "                                                   (0.2470, 0.2435, 0.2616))\n",
    "                          ]))"
   ]
  },
  {
   "cell_type": "code",
   "execution_count": 3,
   "metadata": {},
   "outputs": [],
   "source": [
    "size = 4\n",
    "dataloader = torch.utils.data.DataLoader(full_data_set, batch_size=size, shuffle=True, num_workers=2)"
   ]
  },
  {
   "cell_type": "code",
   "execution_count": 4,
   "metadata": {},
   "outputs": [
    {
     "name": "stderr",
     "output_type": "stream",
     "text": [
      "Clipping input data to the valid range for imshow with RGB data ([0..1] for floats or [0..255] for integers).\n"
     ]
    },
    {
     "name": "stdout",
     "output_type": "stream",
     "text": [
      "truck\n",
      "frog\n",
      "plane\n",
      "bird\n"
     ]
    },
    {
     "data": {
      "image/png": "[encoded data removed]",
      "text/plain": [
       "<Figure size 432x288 with 1 Axes>"
      ]
     },
     "metadata": {
      "needs_background": "light"
     },
     "output_type": "display_data"
    }
   ],
   "source": [
    "data_iterator = iter(dataloader)\n",
    "imgs, labels = data_iterator.next()\n",
    "\n",
    "classes = ['plane','car','bird','cat','deer','dog','frog','horse','ship','truck']\n",
    "\n",
    "plt.imshow(utils.make_grid(imgs).permute(1, 2, 0))\n",
    "\n",
    "for i in range(size):\n",
    "  print(classes[labels[i]])"
   ]
  },
  {
   "cell_type": "code",
   "execution_count": 5,
   "metadata": {},
   "outputs": [],
   "source": [
    "#classes = ['plane','car','bird','cat','deer','dog','frog','horse','ship','truck']\n",
    "class_names = ['car', 'cat']\n",
    "\n",
    "label_map = {1: 0, 3: 1}\n",
    "\n",
    "data_set = [(img, label_map[label]) for img, label in full_data_set if label in [1, 3]]\n",
    "validation_set = [(img, label_map[label]) for img, label in full_validation_set if label in [1, 3]]"
   ]
  },
  {
   "cell_type": "code",
   "execution_count": 6,
   "metadata": {},
   "outputs": [
    {
     "data": {
      "text/plain": [
       "torch.Size([3, 32, 32])"
      ]
     },
     "execution_count": 6,
     "metadata": {},
     "output_type": "execute_result"
    }
   ],
   "source": [
    "img, label = data_set[20]\n",
    "img.shape"
   ]
  },
  {
   "cell_type": "code",
   "execution_count": 7,
   "metadata": {},
   "outputs": [],
   "source": [
    "model = nn.Sequential(\n",
    "            nn.Linear(3 * 32 * 32, 512),\n",
    "            nn.Tanh(),\n",
    "            nn.Linear(512, 2))"
   ]
  },
  {
   "cell_type": "code",
   "execution_count": 8,
   "metadata": {},
   "outputs": [],
   "source": [
    "def sigmoid(x):\n",
    "  return 1 / (1 + torch.exp(-x))"
   ]
  },
  {
   "cell_type": "code",
   "execution_count": 9,
   "metadata": {},
   "outputs": [
    {
     "data": {
      "text/plain": [
       "tensor([0.7311, 0.8808, 0.9526])"
      ]
     },
     "execution_count": 9,
     "metadata": {},
     "output_type": "execute_result"
    }
   ],
   "source": [
    "x = torch.tensor([1.0, 2.0, 3.0])\n",
    "\n",
    "sigmoid(x)"
   ]
  },
  {
   "cell_type": "code",
   "execution_count": 10,
   "metadata": {},
   "outputs": [
    {
     "data": {
      "text/plain": [
       "tensor(2.5644)"
      ]
     },
     "execution_count": 10,
     "metadata": {},
     "output_type": "execute_result"
    }
   ],
   "source": [
    "sigmoid(x).sum()"
   ]
  },
  {
   "cell_type": "code",
   "execution_count": 11,
   "metadata": {},
   "outputs": [],
   "source": [
    "def softmax(x):\n",
    "    return torch.exp(x) / torch.exp(x).sum()"
   ]
  },
  {
   "cell_type": "code",
   "execution_count": 12,
   "metadata": {},
   "outputs": [
    {
     "data": {
      "text/plain": [
       "tensor([0.0900, 0.2447, 0.6652])"
      ]
     },
     "execution_count": 12,
     "metadata": {},
     "output_type": "execute_result"
    }
   ],
   "source": [
    "softmax(x)"
   ]
  },
  {
   "cell_type": "code",
   "execution_count": 13,
   "metadata": {},
   "outputs": [
    {
     "data": {
      "text/plain": [
       "tensor(1.)"
      ]
     },
     "execution_count": 13,
     "metadata": {},
     "output_type": "execute_result"
    }
   ],
   "source": [
    "softmax(x).sum()"
   ]
  },
  {
   "cell_type": "code",
   "execution_count": 14,
   "metadata": {},
   "outputs": [
    {
     "data": {
      "text/plain": [
       "tensor([[0.0900, 0.2447, 0.6652],\n",
       "        [0.0900, 0.2447, 0.6652]])"
      ]
     },
     "execution_count": 14,
     "metadata": {},
     "output_type": "execute_result"
    }
   ],
   "source": [
    "softmax = nn.Softmax(dim=1)\n",
    "\n",
    "x = torch.tensor([[1.0, 2.0, 3.0],\n",
    "                  [1.0, 2.0, 3.0]])\n",
    "\n",
    "softmax(x)"
   ]
  },
  {
   "cell_type": "code",
   "execution_count": 45,
   "metadata": {},
   "outputs": [],
   "source": [
    "model = nn.Sequential(\n",
    "            nn.Linear(3072, 512),\n",
    "            nn.Tanh(),\n",
    "            nn.Linear(512, 2),\n",
    "            nn.Softmax(dim=1))"
   ]
  },
  {
   "cell_type": "code",
   "execution_count": 46,
   "metadata": {},
   "outputs": [
    {
     "name": "stderr",
     "output_type": "stream",
     "text": [
      "Clipping input data to the valid range for imshow with RGB data ([0..1] for floats or [0..255] for integers).\n"
     ]
    },
    {
     "data": {
      "text/plain": [
       "'car'"
      ]
     },
     "execution_count": 46,
     "metadata": {},
     "output_type": "execute_result"
    },
    {
     "data": {
      "image/png": "[encoded data removed]",
      "text/plain": [
       "<Figure size 432x288 with 1 Axes>"
      ]
     },
     "metadata": {
      "needs_background": "light"
     },
     "output_type": "display_data"
    }
   ],
   "source": [
    "img, label = data_set[20]\n",
    "\n",
    "plt.imshow(img.permute(1, 2, 0))\n",
    "class_names[label]"
   ]
  },
  {
   "cell_type": "code",
   "execution_count": 47,
   "metadata": {},
   "outputs": [
    {
     "data": {
      "text/plain": [
       "tensor([[0.5184, 0.4816]], grad_fn=<SoftmaxBackward>)"
      ]
     },
     "execution_count": 47,
     "metadata": {},
     "output_type": "execute_result"
    }
   ],
   "source": [
    "out = model(img.view(-1).unsqueeze(0))\n",
    "out"
   ]
  },
  {
   "cell_type": "code",
   "execution_count": 35,
   "metadata": {},
   "outputs": [
    {
     "name": "stdout",
     "output_type": "stream",
     "text": [
      "-> car  model: car\n"
     ]
    }
   ],
   "source": [
    "_, index = torch.max(out, dim=1)\n",
    "\n",
    "print('->',class_names[label],' model:',class_names[index])"
   ]
  },
  {
   "cell_type": "code",
   "execution_count": 19,
   "metadata": {},
   "outputs": [
    {
     "data": {
      "text/plain": [
       "tensor([[0., 1.]])"
      ]
     },
     "execution_count": 19,
     "metadata": {},
     "output_type": "execute_result"
    }
   ],
   "source": [
    "softmax = nn.Softmax(dim=1)\n",
    "\n",
    "log_softmax = nn.LogSoftmax(dim=1)\n",
    "\n",
    "x = torch.tensor([[0.0, 110.0]])\n",
    "\n",
    "softmax(x)"
   ]
  },
  {
   "cell_type": "code",
   "execution_count": 20,
   "metadata": {},
   "outputs": [
    {
     "data": {
      "text/plain": [
       "tensor([[-inf, 0.]])"
      ]
     },
     "execution_count": 20,
     "metadata": {},
     "output_type": "execute_result"
    }
   ],
   "source": [
    "torch.log(softmax(x))"
   ]
  },
  {
   "cell_type": "code",
   "execution_count": 21,
   "metadata": {},
   "outputs": [
    {
     "data": {
      "text/plain": [
       "tensor([[-110.,    0.]])"
      ]
     },
     "execution_count": 21,
     "metadata": {},
     "output_type": "execute_result"
    }
   ],
   "source": [
    "log_softmax(x)"
   ]
  },
  {
   "cell_type": "code",
   "execution_count": 22,
   "metadata": {},
   "outputs": [
    {
     "data": {
      "text/plain": [
       "tensor([[0., 1.]])"
      ]
     },
     "execution_count": 22,
     "metadata": {},
     "output_type": "execute_result"
    }
   ],
   "source": [
    "torch.exp(log_softmax(x))"
   ]
  },
  {
   "cell_type": "markdown",
   "metadata": {},
   "source": [
    "# Implementando un clasificador totalmente conectado"
   ]
  },
  {
   "cell_type": "code",
   "execution_count": 60,
   "metadata": {},
   "outputs": [
    {
     "name": "stdout",
     "output_type": "stream",
     "text": [
      "Epoch, 0, Loss: 0.014412\n",
      "Epoch, 1, Loss: 0.117439\n",
      "Epoch, 2, Loss: 0.083675\n",
      "Epoch, 3, Loss: 0.006199\n",
      "Epoch, 4, Loss: 0.000606\n"
     ]
    }
   ],
   "source": [
    "model = nn.Sequential(\n",
    "            nn.Linear(3072, 512),\n",
    "            nn.Tanh(),\n",
    "            nn.Linear(512, 2),\n",
    "            nn.LogSoftmax(dim=1))\n",
    "\n",
    "loss = nn.NLLLoss()\n",
    "\n",
    "optimizer = optim.SGD(model.parameters(), lr=0.01)\n",
    "\n",
    "\n",
    "n_epochs = 5\n",
    "\n",
    "for epoch in range(n_epochs):\n",
    "    for img, label in data_set:\n",
    "        out = model(img.view(-1).unsqueeze(0))\n",
    "        loss = loss_function(out, torch.tensor([label]))\n",
    "        \n",
    "        optimizer.zero_grad()\n",
    "        loss.backward()\n",
    "        optimizer.step()\n",
    "        \n",
    "    print(\"Epoch, %d, Loss: %f\" % (epoch, float(loss)))"
   ]
  },
  {
   "cell_type": "code",
   "execution_count": 54,
   "metadata": {},
   "outputs": [
    {
     "data": {
      "text/plain": [
       "'car'"
      ]
     },
     "execution_count": 54,
     "metadata": {},
     "output_type": "execute_result"
    }
   ],
   "source": [
    "img, label = data_set[20]\n",
    "class_names[label]\n",
    "\n"
   ]
  },
  {
   "cell_type": "code",
   "execution_count": 56,
   "metadata": {},
   "outputs": [
    {
     "name": "stdout",
     "output_type": "stream",
     "text": [
      "tensor([[-0.6741, -0.7126]], grad_fn=<LogSoftmaxBackward>)\n",
      "-> car  model: car\n"
     ]
    }
   ],
   "source": [
    "out = model(img.view(-1).unsqueeze(0))\n",
    "print(out)\n",
    "print('->',class_names[label],' model:',class_names[index])"
   ]
  },
  {
   "cell_type": "code",
   "execution_count": 61,
   "metadata": {},
   "outputs": [
    {
     "name": "stdout",
     "output_type": "stream",
     "text": [
      "Epoch, 0, Loss: 0.344241\n",
      "Epoch, 1, Loss: 0.475268\n",
      "Epoch, 2, Loss: 0.239675\n",
      "Epoch, 3, Loss: 0.398373\n",
      "Epoch, 4, Loss: 0.784687\n",
      "Epoch, 5, Loss: 0.390536\n",
      "Epoch, 6, Loss: 0.447511\n",
      "Epoch, 7, Loss: 0.198131\n",
      "Epoch, 8, Loss: 0.357902\n",
      "Epoch, 9, Loss: 0.294715\n",
      "Epoch, 10, Loss: 0.143128\n",
      "Epoch, 11, Loss: 0.160737\n",
      "Epoch, 12, Loss: 0.083765\n",
      "Epoch, 13, Loss: 0.226262\n",
      "Epoch, 14, Loss: 0.197066\n",
      "Epoch, 15, Loss: 0.221906\n",
      "Epoch, 16, Loss: 0.333537\n",
      "Epoch, 17, Loss: 0.072800\n",
      "Epoch, 18, Loss: 0.184434\n",
      "Epoch, 19, Loss: 0.096362\n",
      "Epoch, 20, Loss: 0.097162\n",
      "Epoch, 21, Loss: 0.146228\n",
      "Epoch, 22, Loss: 0.055246\n",
      "Epoch, 23, Loss: 0.155506\n",
      "Epoch, 24, Loss: 0.138311\n",
      "Epoch, 25, Loss: 0.146652\n",
      "Epoch, 26, Loss: 0.089360\n",
      "Epoch, 27, Loss: 0.073680\n",
      "Epoch, 28, Loss: 0.134145\n",
      "Epoch, 29, Loss: 0.062815\n",
      "Epoch, 30, Loss: 0.056310\n",
      "Epoch, 31, Loss: 0.054184\n",
      "Epoch, 32, Loss: 0.166906\n",
      "Epoch, 33, Loss: 0.076275\n",
      "Epoch, 34, Loss: 0.022290\n",
      "Epoch, 35, Loss: 0.021805\n",
      "Epoch, 36, Loss: 0.053218\n",
      "Epoch, 37, Loss: 0.047515\n",
      "Epoch, 38, Loss: 0.072638\n",
      "Epoch, 39, Loss: 0.021414\n",
      "Epoch, 40, Loss: 0.045144\n",
      "Epoch, 41, Loss: 0.023695\n",
      "Epoch, 42, Loss: 0.168828\n",
      "Epoch, 43, Loss: 0.117032\n",
      "Epoch, 44, Loss: 0.040610\n",
      "Epoch, 45, Loss: 0.016558\n",
      "Epoch, 46, Loss: 0.028787\n",
      "Epoch, 47, Loss: 0.036488\n",
      "Epoch, 48, Loss: 0.095103\n",
      "Epoch, 49, Loss: 0.020082\n",
      "Epoch, 50, Loss: 0.040661\n",
      "Epoch, 51, Loss: 0.046771\n",
      "Epoch, 52, Loss: 0.018729\n",
      "Epoch, 53, Loss: 0.012164\n",
      "Epoch, 54, Loss: 0.017963\n",
      "Epoch, 55, Loss: 0.011588\n",
      "Epoch, 56, Loss: 0.017200\n",
      "Epoch, 57, Loss: 0.021869\n",
      "Epoch, 58, Loss: 0.018274\n",
      "Epoch, 59, Loss: 0.014232\n",
      "Epoch, 60, Loss: 0.014954\n",
      "Epoch, 61, Loss: 0.012308\n",
      "Epoch, 62, Loss: 0.016812\n",
      "Epoch, 63, Loss: 0.009063\n",
      "Epoch, 64, Loss: 0.008048\n",
      "Epoch, 65, Loss: 0.022499\n",
      "Epoch, 66, Loss: 0.013674\n",
      "Epoch, 67, Loss: 0.016143\n",
      "Epoch, 68, Loss: 0.009385\n",
      "Epoch, 69, Loss: 0.008846\n",
      "Epoch, 70, Loss: 0.006902\n",
      "Epoch, 71, Loss: 0.011736\n",
      "Epoch, 72, Loss: 0.015897\n",
      "Epoch, 73, Loss: 0.012166\n",
      "Epoch, 74, Loss: 0.007665\n",
      "Epoch, 75, Loss: 0.004714\n",
      "Epoch, 76, Loss: 0.015301\n",
      "Epoch, 77, Loss: 0.012080\n",
      "Epoch, 78, Loss: 0.010004\n",
      "Epoch, 79, Loss: 0.008846\n",
      "Epoch, 80, Loss: 0.004751\n",
      "Epoch, 81, Loss: 0.013577\n",
      "Epoch, 82, Loss: 0.003670\n",
      "Epoch, 83, Loss: 0.007480\n",
      "Epoch, 84, Loss: 0.006581\n",
      "Epoch, 85, Loss: 0.006499\n",
      "Epoch, 86, Loss: 0.015038\n",
      "Epoch, 87, Loss: 0.002881\n",
      "Epoch, 88, Loss: 0.001856\n",
      "Epoch, 89, Loss: 0.002448\n",
      "Epoch, 90, Loss: 0.004643\n",
      "Epoch, 91, Loss: 0.009309\n",
      "Epoch, 92, Loss: 0.009209\n",
      "Epoch, 93, Loss: 0.004452\n",
      "Epoch, 94, Loss: 0.002964\n",
      "Epoch, 95, Loss: 0.003338\n",
      "Epoch, 96, Loss: 0.010331\n",
      "Epoch, 97, Loss: 0.005327\n",
      "Epoch, 98, Loss: 0.003443\n",
      "Epoch, 99, Loss: 0.003059\n"
     ]
    }
   ],
   "source": [
    "train_loader = torch.utils.data.DataLoader(data_set, batch_size=64, shuffle=True)\n",
    "\n",
    "model = nn.Sequential(\n",
    "            nn.Linear(3072, 512),\n",
    "            nn.Tanh(),\n",
    "            nn.Linear(512, 2),\n",
    "            nn.LogSoftmax(dim=1))\n",
    "\n",
    "loss = nn.NLLLoss()\n",
    "\n",
    "optimizer = optim.SGD(model.parameters(), lr=0.01)\n",
    "\n",
    "\n",
    "n_epochs = 100\n",
    "\n",
    "for epoch in range(n_epochs):\n",
    "    for img, label in train_loader:\n",
    "        out = model(img.view(img.shape[0], -1))\n",
    "        loss = loss_function(out, label)\n",
    "        \n",
    "        optimizer.zero_grad()\n",
    "        loss.backward()\n",
    "        optimizer.step()\n",
    "        \n",
    "    print(\"Epoch, %d, Loss: %f\" % (epoch, float(loss)))"
   ]
  },
  {
   "cell_type": "code",
   "execution_count": 62,
   "metadata": {},
   "outputs": [
    {
     "name": "stdout",
     "output_type": "stream",
     "text": [
      "Accuracy: 0.871500\n"
     ]
    }
   ],
   "source": [
    "val_loader = torch.utils.data.DataLoader(validation_set, batch_size=64, shuffle=False)\n",
    "\n",
    "correct = 0\n",
    "total = 0\n",
    "\n",
    "with torch.no_grad():\n",
    "    for imgs, labels in val_loader:\n",
    "        outputs = model(imgs.view(imgs.shape[0], -1))\n",
    "        _, predicted = torch.max(outputs, dim=1)\n",
    "        total += labels.shape[0]\n",
    "        correct += int((predicted == labels).sum())\n",
    "        \n",
    "print(\"Accuracy: %f\" % (correct / total))"
   ]
  },
  {
   "cell_type": "code",
   "execution_count": 63,
   "metadata": {},
   "outputs": [
    {
     "data": {
      "text/plain": [
       "tensor([[-1.6093e-05, -1.1037e+01]], grad_fn=<LogSoftmaxBackward>)"
      ]
     },
     "execution_count": 63,
     "metadata": {},
     "output_type": "execute_result"
    }
   ],
   "source": [
    "img, label =validation_set[20]\n",
    "out = model(img.view(-1).unsqueeze(0))\n",
    "_, index = torch.max(out, dim=1)\n",
    "out"
   ]
  },
  {
   "cell_type": "code",
   "execution_count": 64,
   "metadata": {},
   "outputs": [
    {
     "name": "stderr",
     "output_type": "stream",
     "text": [
      "Clipping input data to the valid range for imshow with RGB data ([0..1] for floats or [0..255] for integers).\n"
     ]
    },
    {
     "name": "stdout",
     "output_type": "stream",
     "text": [
      "-> car  model: car\n"
     ]
    },
    {
     "data": {
      "image/png": "[encoded data removed]",
      "text/plain": [
       "<Figure size 432x288 with 1 Axes>"
      ]
     },
     "metadata": {
      "needs_background": "light"
     },
     "output_type": "display_data"
    }
   ],
   "source": [
    "print('->',class_names[label],' model:',class_names[index])\n",
    "plt.imshow(img.permute(1,2,0))\n",
    "plt.show()"
   ]
  },
  {
   "cell_type": "markdown",
   "metadata": {},
   "source": [
    "# Mejoras, limitaciones y conclusiones"
   ]
  },
  {
   "cell_type": "code",
   "execution_count": 75,
   "metadata": {},
   "outputs": [
    {
     "name": "stdout",
     "output_type": "stream",
     "text": [
      "Epoch: 0, Loss: 0.404783\n",
      "Epoch: 1, Loss: 0.445407\n",
      "Epoch: 2, Loss: 0.815433\n",
      "Epoch: 3, Loss: 0.416338\n",
      "Epoch: 4, Loss: 0.449459\n",
      "Epoch: 5, Loss: 0.557272\n",
      "Epoch: 6, Loss: 0.260964\n",
      "Epoch: 7, Loss: 0.426650\n",
      "Epoch: 8, Loss: 0.414473\n",
      "Epoch: 9, Loss: 0.180518\n",
      "Epoch: 10, Loss: 0.584260\n",
      "Epoch: 11, Loss: 0.276827\n",
      "Epoch: 12, Loss: 0.716142\n",
      "Epoch: 13, Loss: 0.272178\n",
      "Epoch: 14, Loss: 0.350158\n",
      "Epoch: 15, Loss: 0.069622\n",
      "Epoch: 16, Loss: 0.267541\n",
      "Epoch: 17, Loss: 0.244484\n",
      "Epoch: 18, Loss: 0.189627\n",
      "Epoch: 19, Loss: 0.131166\n",
      "Epoch: 20, Loss: 0.102559\n",
      "Epoch: 21, Loss: 0.205600\n",
      "Epoch: 22, Loss: 0.044953\n",
      "Epoch: 23, Loss: 0.041900\n",
      "Epoch: 24, Loss: 0.633892\n",
      "Epoch: 25, Loss: 0.013824\n",
      "Epoch: 26, Loss: 0.134498\n",
      "Epoch: 27, Loss: 0.035639\n",
      "Epoch: 28, Loss: 0.183790\n",
      "Epoch: 29, Loss: 0.046573\n",
      "Epoch: 30, Loss: 0.017662\n",
      "Epoch: 31, Loss: 0.006470\n",
      "Epoch: 32, Loss: 0.007846\n",
      "Epoch: 33, Loss: 0.027940\n",
      "Epoch: 34, Loss: 0.266745\n",
      "Epoch: 35, Loss: 1.264106\n",
      "Epoch: 36, Loss: 0.053846\n",
      "Epoch: 37, Loss: 0.004457\n",
      "Epoch: 38, Loss: 0.004921\n",
      "Epoch: 39, Loss: 0.005360\n",
      "Epoch: 40, Loss: 0.004959\n",
      "Epoch: 41, Loss: 0.003449\n",
      "Epoch: 42, Loss: 0.001601\n",
      "Epoch: 43, Loss: 0.003910\n",
      "Epoch: 44, Loss: 0.000870\n",
      "Epoch: 45, Loss: 0.001384\n",
      "Epoch: 46, Loss: 0.002469\n",
      "Epoch: 47, Loss: 0.002450\n",
      "Epoch: 48, Loss: 0.001390\n",
      "Epoch: 49, Loss: 0.000656\n",
      "Epoch: 50, Loss: 0.000740\n",
      "Epoch: 51, Loss: 0.007739\n",
      "Epoch: 52, Loss: 0.001339\n",
      "Epoch: 53, Loss: 0.001360\n",
      "Epoch: 54, Loss: 0.000508\n",
      "Epoch: 55, Loss: 0.004138\n",
      "Epoch: 56, Loss: 0.000568\n",
      "Epoch: 57, Loss: 0.000630\n"
     ]
    },
    {
     "ename": "KeyboardInterrupt",
     "evalue": "",
     "output_type": "error",
     "traceback": [
      "\u001b[0;31m---------------------------------------------------------------------------\u001b[0m",
      "\u001b[0;31mKeyboardInterrupt\u001b[0m                         Traceback (most recent call last)",
      "\u001b[0;32m<ipython-input-75-148d354ef207>\u001b[0m in \u001b[0;36m<module>\u001b[0;34m\u001b[0m\n\u001b[1;32m     24\u001b[0m \u001b[0;34m\u001b[0m\u001b[0m\n\u001b[1;32m     25\u001b[0m         \u001b[0moptimizer\u001b[0m\u001b[0;34m.\u001b[0m\u001b[0mzero_grad\u001b[0m\u001b[0;34m(\u001b[0m\u001b[0;34m)\u001b[0m\u001b[0;34m\u001b[0m\u001b[0;34m\u001b[0m\u001b[0m\n\u001b[0;32m---> 26\u001b[0;31m         \u001b[0mloss\u001b[0m\u001b[0;34m.\u001b[0m\u001b[0mbackward\u001b[0m\u001b[0;34m(\u001b[0m\u001b[0;34m)\u001b[0m\u001b[0;34m\u001b[0m\u001b[0;34m\u001b[0m\u001b[0m\n\u001b[0m\u001b[1;32m     27\u001b[0m         \u001b[0moptimizer\u001b[0m\u001b[0;34m.\u001b[0m\u001b[0mstep\u001b[0m\u001b[0;34m(\u001b[0m\u001b[0;34m)\u001b[0m\u001b[0;34m\u001b[0m\u001b[0;34m\u001b[0m\u001b[0m\n\u001b[1;32m     28\u001b[0m \u001b[0;34m\u001b[0m\u001b[0m\n",
      "\u001b[0;32m~/.local/lib/python3.7/site-packages/torch/tensor.py\u001b[0m in \u001b[0;36mbackward\u001b[0;34m(self, gradient, retain_graph, create_graph)\u001b[0m\n\u001b[1;32m    164\u001b[0m                 \u001b[0mproducts\u001b[0m\u001b[0;34m.\u001b[0m \u001b[0mDefaults\u001b[0m \u001b[0mto\u001b[0m\u001b[0;31m \u001b[0m\u001b[0;31m`\u001b[0m\u001b[0;31m`\u001b[0m\u001b[0;32mFalse\u001b[0m\u001b[0;31m`\u001b[0m\u001b[0;31m`\u001b[0m\u001b[0;34m.\u001b[0m\u001b[0;34m\u001b[0m\u001b[0;34m\u001b[0m\u001b[0m\n\u001b[1;32m    165\u001b[0m         \"\"\"\n\u001b[0;32m--> 166\u001b[0;31m         \u001b[0mtorch\u001b[0m\u001b[0;34m.\u001b[0m\u001b[0mautograd\u001b[0m\u001b[0;34m.\u001b[0m\u001b[0mbackward\u001b[0m\u001b[0;34m(\u001b[0m\u001b[0mself\u001b[0m\u001b[0;34m,\u001b[0m \u001b[0mgradient\u001b[0m\u001b[0;34m,\u001b[0m \u001b[0mretain_graph\u001b[0m\u001b[0;34m,\u001b[0m \u001b[0mcreate_graph\u001b[0m\u001b[0;34m)\u001b[0m\u001b[0;34m\u001b[0m\u001b[0;34m\u001b[0m\u001b[0m\n\u001b[0m\u001b[1;32m    167\u001b[0m \u001b[0;34m\u001b[0m\u001b[0m\n\u001b[1;32m    168\u001b[0m     \u001b[0;32mdef\u001b[0m \u001b[0mregister_hook\u001b[0m\u001b[0;34m(\u001b[0m\u001b[0mself\u001b[0m\u001b[0;34m,\u001b[0m \u001b[0mhook\u001b[0m\u001b[0;34m)\u001b[0m\u001b[0;34m:\u001b[0m\u001b[0;34m\u001b[0m\u001b[0;34m\u001b[0m\u001b[0m\n",
      "\u001b[0;32m~/.local/lib/python3.7/site-packages/torch/autograd/__init__.py\u001b[0m in \u001b[0;36mbackward\u001b[0;34m(tensors, grad_tensors, retain_graph, create_graph, grad_variables)\u001b[0m\n\u001b[1;32m     97\u001b[0m     Variable._execution_engine.run_backward(\n\u001b[1;32m     98\u001b[0m         \u001b[0mtensors\u001b[0m\u001b[0;34m,\u001b[0m \u001b[0mgrad_tensors\u001b[0m\u001b[0;34m,\u001b[0m \u001b[0mretain_graph\u001b[0m\u001b[0;34m,\u001b[0m \u001b[0mcreate_graph\u001b[0m\u001b[0;34m,\u001b[0m\u001b[0;34m\u001b[0m\u001b[0;34m\u001b[0m\u001b[0m\n\u001b[0;32m---> 99\u001b[0;31m         allow_unreachable=True)  # allow_unreachable flag\n\u001b[0m\u001b[1;32m    100\u001b[0m \u001b[0;34m\u001b[0m\u001b[0m\n\u001b[1;32m    101\u001b[0m \u001b[0;34m\u001b[0m\u001b[0m\n",
      "\u001b[0;31mKeyboardInterrupt\u001b[0m: "
     ]
    }
   ],
   "source": [
    "train_loader = torch.utils.data.DataLoader(data_set, batch_size=64, shuffle=True)\n",
    "\n",
    "model = nn.Sequential(\n",
    "            nn.Linear(3072, 1024),\n",
    "            nn.Tanh(),\n",
    "            nn.Linear(1024, 512),\n",
    "            nn.Tanh(),\n",
    "            nn.Linear(512, 128),\n",
    "            nn.Tanh(),\n",
    "            nn.Linear(128, 2))\n",
    "\n",
    "learning_rate = 0.01\n",
    "\n",
    "optimizer = optim.SGD(model.parameters(), lr=learning_rate)\n",
    "\n",
    "loss_fn = nn.CrossEntropyLoss()\n",
    "\n",
    "n_epochs = 100\n",
    "\n",
    "for epoch in range(n_epochs):\n",
    "    for imgs, labels in train_loader:\n",
    "        outputs = model(imgs.view(imgs.shape[0], -1))\n",
    "        loss = loss_fn(outputs, labels)\n",
    "\n",
    "        optimizer.zero_grad()\n",
    "        loss.backward()\n",
    "        optimizer.step()\n",
    "\n",
    "    print(\"Epoch: %d, Loss: %f\" % (epoch, float(loss)))"
   ]
  },
  {
   "cell_type": "code",
   "execution_count": 67,
   "metadata": {},
   "outputs": [
    {
     "name": "stdout",
     "output_type": "stream",
     "text": [
      "Accuracy: 0.500000\n"
     ]
    }
   ],
   "source": [
    "val_loader = torch.utils.data.DataLoader(validation_set, batch_size=64, shuffle=False)\n",
    "\n",
    "correct = 0\n",
    "total = 0\n",
    "\n",
    "with torch.no_grad():\n",
    "    for imgs, labels in val_loader:\n",
    "        outputs = model(imgs.view(imgs.shape[0], -1))\n",
    "        _, predicted = torch.max(outputs, dim=1)\n",
    "        total += labels.shape[0]\n",
    "        correct += int((predicted == labels).sum())\n",
    "        \n",
    "print(\"Accuracy: %f\" % (correct / total))"
   ]
  },
  {
   "cell_type": "code",
   "execution_count": 68,
   "metadata": {},
   "outputs": [
    {
     "name": "stdout",
     "output_type": "stream",
     "text": [
      "Accuracy: 0.500000\n"
     ]
    }
   ],
   "source": [
    "train_loader = torch.utils.data.DataLoader(data_set, batch_size=64, shuffle=False)\n",
    "\n",
    "correct = 0\n",
    "total = 0\n",
    "\n",
    "with torch.no_grad():\n",
    "    for imgs, labels in train_loader:\n",
    "        outputs = model(imgs.view(imgs.shape[0], -1))\n",
    "        _, predicted = torch.max(outputs, dim=1)\n",
    "        total += labels.shape[0]\n",
    "        correct += int((predicted == labels).sum())\n",
    "        \n",
    "print(\"Accuracy: %f\" % (correct / total))"
   ]
  },
  {
   "cell_type": "code",
   "execution_count": 69,
   "metadata": {},
   "outputs": [
    {
     "name": "stderr",
     "output_type": "stream",
     "text": [
      "Clipping input data to the valid range for imshow with RGB data ([0..1] for floats or [0..255] for integers).\n"
     ]
    },
    {
     "name": "stdout",
     "output_type": "stream",
     "text": [
      "correct:  car  model: car\n"
     ]
    },
    {
     "data": {
      "text/plain": [
       "<matplotlib.image.AxesImage at 0x7fbc92ca3a90>"
      ]
     },
     "execution_count": 69,
     "metadata": {},
     "output_type": "execute_result"
    },
    {
     "data": {
      "image/png": "[encoded data removed]",
      "text/plain": [
       "<Figure size 432x288 with 1 Axes>"
      ]
     },
     "metadata": {
      "needs_background": "light"
     },
     "output_type": "display_data"
    }
   ],
   "source": [
    "img, label = validation_set[1]\n",
    "out = model(img.view(-1).unsqueeze(0))\n",
    "_, index = torch.max(out, dim=1)\n",
    "\n",
    "print('correct: ',class_names[label],' model:',class_names[index])\n",
    "plt.imshow(img.permute(1, 2, 0))"
   ]
  },
  {
   "cell_type": "code",
   "execution_count": 70,
   "metadata": {},
   "outputs": [
    {
     "data": {
      "text/plain": [
       "3737474"
      ]
     },
     "execution_count": 70,
     "metadata": {},
     "output_type": "execute_result"
    }
   ],
   "source": [
    "sum([p.numel() for p in model.parameters() if p.requires_grad == True])"
   ]
  },
  {
   "cell_type": "code",
   "execution_count": 71,
   "metadata": {},
   "outputs": [
    {
     "data": {
      "text/plain": [
       "1574402"
      ]
     },
     "execution_count": 71,
     "metadata": {},
     "output_type": "execute_result"
    }
   ],
   "source": [
    "first_model = nn.Sequential(\n",
    "                nn.Linear(3072, 512),\n",
    "                nn.Tanh(),\n",
    "                nn.Linear(512, 2),\n",
    "                nn.LogSoftmax(dim=1))\n",
    "\n",
    "sum([p.numel() for p in first_model.parameters()])"
   ]
  },
  {
   "cell_type": "code",
   "execution_count": 72,
   "metadata": {},
   "outputs": [
    {
     "data": {
      "text/plain": [
       "1573376"
      ]
     },
     "execution_count": 72,
     "metadata": {},
     "output_type": "execute_result"
    }
   ],
   "source": [
    "sum([p.numel() for p in nn.Linear(3072, 512).parameters()])"
   ]
  },
  {
   "cell_type": "code",
   "execution_count": 73,
   "metadata": {},
   "outputs": [
    {
     "data": {
      "text/plain": [
       "3146752"
      ]
     },
     "execution_count": 73,
     "metadata": {},
     "output_type": "execute_result"
    }
   ],
   "source": [
    "sum([p.numel() for p in nn.Linear(3072, 1024).parameters()])"
   ]
  },
  {
   "cell_type": "code",
   "execution_count": 74,
   "metadata": {},
   "outputs": [
    {
     "name": "stderr",
     "output_type": "stream",
     "text": [
      "Clipping input data to the valid range for imshow with RGB data ([0..1] for floats or [0..255] for integers).\n"
     ]
    },
    {
     "name": "stdout",
     "output_type": "stream",
     "text": [
      "correct: car   model: car\n"
     ]
    },
    {
     "data": {
      "text/plain": [
       "<matplotlib.image.AxesImage at 0x7fbc92054ad0>"
      ]
     },
     "execution_count": 74,
     "metadata": {},
     "output_type": "execute_result"
    },
    {
     "data": {
      "image/png": "[encoded data removed]",
      "text/plain": [
       "<Figure size 432x288 with 1 Axes>"
      ]
     },
     "metadata": {
      "needs_background": "light"
     },
     "output_type": "display_data"
    }
   ],
   "source": [
    "image = request.urlretrieve('https://i.pinimg.com/originals/43/bc/47/43bc47066bb8b2fa4fe7cc8e82cc3714.jpg','test,jpg')\n",
    "                            \n",
    "img = Image.open(image[0])\n",
    "\n",
    "preprocess = transforms.Compose([\n",
    "        transforms.Resize(48),\n",
    "        transforms.CenterCrop(32),\n",
    "        transforms.ToTensor(),\n",
    "        transforms.Normalize(\n",
    "            mean=[0.4915, 0.4823, 0.4468],\n",
    "            std=[0.2470, 0.2435, 0.2616]\n",
    "        )])\n",
    "\n",
    "img_t = preprocess(img)\n",
    "out = model(img_t.view(-1).unsqueeze(0))\n",
    "_, index = torch.max(out, dim=1)\n",
    "print('correct: car ',' model:',class_names[index])\n",
    "plt.imshow(img_t.permute(1, 2, 0))"
   ]
  }
 ],
 "metadata": {
  "kernelspec": {
   "display_name": "Python 3",
   "language": "python",
   "name": "python3"
  },
  "language_info": {
   "codemirror_mode": {
    "name": "ipython",
    "version": 3
   },
   "file_extension": ".py",
   "mimetype": "text/x-python",
   "name": "python",
   "nbconvert_exporter": "python",
   "pygments_lexer": "ipython3",
   "version": "3.7.5"
  }
 },
 "nbformat": 4,
 "nbformat_minor": 2
}
